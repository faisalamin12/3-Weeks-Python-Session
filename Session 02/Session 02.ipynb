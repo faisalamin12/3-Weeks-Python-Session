{
 "cells": [
  {
   "cell_type": "markdown",
   "id": "91a01810",
   "metadata": {},
   "source": [
    "# What are strings?\n",
    "\n",
    "\n",
    "In python, anything that you enclose between single or double quotation marks is considered a string. A string is essentially a sequence or array of textual data. Strings are used when working with Unicode characters."
   ]
  },
  {
   "cell_type": "code",
   "execution_count": 1,
   "id": "51353e26",
   "metadata": {},
   "outputs": [
    {
     "name": "stdout",
     "output_type": "stream",
     "text": [
      "Hello World\n"
     ]
    }
   ],
   "source": [
    "val = \"World\"\n",
    "print(\"Hello \" + val)"
   ]
  },
  {
   "cell_type": "code",
   "execution_count": 4,
   "id": "b5e8281d",
   "metadata": {},
   "outputs": [
    {
     "name": "stdout",
     "output_type": "stream",
     "text": [
      "Enter Value5\n",
      "Enter Value5\n",
      "5\n",
      "55\n",
      "<class 'str'>\n"
     ]
    }
   ],
   "source": [
    "a = input(\"Enter Value\")\n",
    "b = input(\"Enter Value\")\n",
    "print(a+b)\n",
    "print(type(a))"
   ]
  },
  {
   "cell_type": "markdown",
   "id": "95007eb0",
   "metadata": {},
   "source": [
    "Note: It does not matter whether you enclose your strings in single or double quotes, the output remains the same.\n",
    "\n",
    "Sometimes, the user might need to put quotation marks in between the strings. Example, consider the sentence: He said, “I want to eat an apple”.\n",
    "\n",
    "How will you print this statement in python?: He said, \"I want to eat an apple\". We will definitely use single quotes for our convenience"
   ]
  },
  {
   "cell_type": "code",
   "execution_count": 5,
   "id": "c32fa532",
   "metadata": {},
   "outputs": [
    {
     "name": "stdout",
     "output_type": "stream",
     "text": [
      "He said, \"I want to eat an apple\".\n"
     ]
    }
   ],
   "source": [
    "print('He said, \"I want to eat an apple\".')"
   ]
  },
  {
   "cell_type": "markdown",
   "id": "b6272616",
   "metadata": {},
   "source": [
    "## Accessing Characters of a String\n",
    "In Python, string is like an array of characters. We can access parts of string by using its index which starts from 0.\n",
    "Square brackets can be used to access elements of the string. "
   ]
  },
  {
   "cell_type": "code",
   "execution_count": 6,
   "id": "c9f85e56",
   "metadata": {},
   "outputs": [
    {
     "name": "stdout",
     "output_type": "stream",
     "text": [
      "W\n",
      "o\n"
     ]
    }
   ],
   "source": [
    "print(val[0])\n",
    "print(val[1])"
   ]
  },
  {
   "cell_type": "markdown",
   "id": "f7b38531",
   "metadata": {},
   "source": [
    "## String Slicing & Operations on String\n",
    "\n",
    "\n",
    "### Length of a String\n",
    "We can find the length of a string using len() function.\n"
   ]
  },
  {
   "cell_type": "code",
   "execution_count": 6,
   "id": "d0c0e23d",
   "metadata": {},
   "outputs": [
    {
     "name": "stdout",
     "output_type": "stream",
     "text": [
      "Mango is a 5 letter word.\n"
     ]
    }
   ],
   "source": [
    "fruit = \"Mango\"\n",
    "len1 = len(fruit)\n",
    "print(\"Mango is a\", len1, \"letter word.\")"
   ]
  },
  {
   "cell_type": "markdown",
   "id": "5e5f0c22",
   "metadata": {},
   "source": [
    "A string is essentially a sequence of characters also called an array. Thus we can access the elements of this array."
   ]
  },
  {
   "cell_type": "code",
   "execution_count": 8,
   "id": "9bc46bfa",
   "metadata": {},
   "outputs": [
    {
     "name": "stdout",
     "output_type": "stream",
     "text": [
      "Apple\n",
      "i\n"
     ]
    }
   ],
   "source": [
    "pie = \"ApplePie\"\n",
    "print(pie[0:5])\n",
    "print(pie[6])\t#returns character at specified index"
   ]
  },
  {
   "cell_type": "markdown",
   "id": "af134396",
   "metadata": {},
   "source": [
    "Note: This method of specifying the start and end index to specify a part of a string is called slicing."
   ]
  },
  {
   "cell_type": "code",
   "execution_count": 12,
   "id": "5a2b48b3",
   "metadata": {},
   "outputs": [
    {
     "name": "stdout",
     "output_type": "stream",
     "text": [
      "Apple\n",
      "Pie\n",
      "pleP\n",
      "App\n",
      "App\n"
     ]
    }
   ],
   "source": [
    "pie = \"ApplePie\"\n",
    "print(pie[:5])      #Slicing from Start\n",
    "print(pie[5:])      #Slicing till End\n",
    "print(pie[2:6])     #Slicing in between\n",
    "print(pie[0:3])\n",
    "print(pie[0:-5])"
   ]
  },
  {
   "cell_type": "markdown",
   "id": "6ee9783e",
   "metadata": {},
   "source": [
    "## String methods\n",
    "Python provides a set of built-in methods that we can use to alter and modify the strings.\n",
    "\n",
    "#### upper() :\n",
    "The upper() method converts a string to upper case.\n",
    "\n"
   ]
  },
  {
   "cell_type": "code",
   "execution_count": 13,
   "id": "177bc699",
   "metadata": {},
   "outputs": [
    {
     "name": "stdout",
     "output_type": "stream",
     "text": [
      "ABCDEFGHIJ\n"
     ]
    }
   ],
   "source": [
    "str1 = \"AbcDEfghIJ\"\n",
    "print(str1.upper())"
   ]
  },
  {
   "cell_type": "markdown",
   "id": "853f8ae2",
   "metadata": {},
   "source": [
    "####  lower()\n",
    "The lower() method converts a string to lower case."
   ]
  },
  {
   "cell_type": "code",
   "execution_count": 14,
   "id": "6723e5d1",
   "metadata": {},
   "outputs": [
    {
     "name": "stdout",
     "output_type": "stream",
     "text": [
      "abcdefghij\n"
     ]
    }
   ],
   "source": [
    "str1 = \"AbcDEfghIJ\"\n",
    "print(str1.lower())"
   ]
  },
  {
   "cell_type": "markdown",
   "id": "b00678c4",
   "metadata": {},
   "source": [
    "### replace() :\n",
    "The replace() method replaces all occurences of a string with another string. \n",
    "\n",
    "Example:"
   ]
  },
  {
   "cell_type": "code",
   "execution_count": 16,
   "id": "5beae7af",
   "metadata": {},
   "outputs": [
    {
     "name": "stdout",
     "output_type": "stream",
     "text": [
      "Hello Country\n"
     ]
    }
   ],
   "source": [
    "str2 = \"Hello Country\"\n",
    "print(str2.replace(\"Contry\", \"World\"))"
   ]
  },
  {
   "cell_type": "markdown",
   "id": "6d232601",
   "metadata": {},
   "source": [
    "### split() :\n",
    "The split() method splits the given string at the specified instance and returns the separated strings as list items."
   ]
  },
  {
   "cell_type": "code",
   "execution_count": 12,
   "id": "104a00de",
   "metadata": {},
   "outputs": [
    {
     "name": "stdout",
     "output_type": "stream",
     "text": [
      "['Hello', 'World']\n"
     ]
    }
   ],
   "source": [
    "str2 = \"Hello World\"\n",
    "print(str2.split(\" \"))      #Splits the string at the whitespace \" \"."
   ]
  },
  {
   "cell_type": "markdown",
   "id": "52fd7f22",
   "metadata": {},
   "source": [
    "### capitalize() :\n",
    "The capitalize() method turns only the first character of the string to uppercase and the rest other characters of the string are turned to lowercase. The string has no effect if the first character is already uppercase. "
   ]
  },
  {
   "cell_type": "code",
   "execution_count": 17,
   "id": "66efb3e9",
   "metadata": {},
   "outputs": [
    {
     "name": "stdout",
     "output_type": "stream",
     "text": [
      "Hello\n",
      "Hello world\n"
     ]
    }
   ],
   "source": [
    "str1 = \"hello\"\n",
    "capStr1 = str1.capitalize()\n",
    "print(capStr1)\n",
    "str2 = \"hello WorlD\"\n",
    "capStr2 = str2.capitalize()\n",
    "print(capStr2)"
   ]
  },
  {
   "cell_type": "markdown",
   "id": "915663cc",
   "metadata": {},
   "source": [
    "# if-else Statements\n",
    "Sometimes the programmer needs to check the evaluation of certain expression(s), whether the expression(s) evaluate to True or False. If the expression evaluates to False, then the program execution follows a different path than it would have if the expression had evaluated to True. "
   ]
  },
  {
   "cell_type": "markdown",
   "id": "dfbd9617",
   "metadata": {},
   "source": [
    "Based on this, the conditional statements are further classified into following types:"
   ]
  },
  {
   "cell_type": "markdown",
   "id": "fe0eb38a",
   "metadata": {},
   "source": [
    "1. if\n",
    "2. if-else\n",
    "3. if-else-elif\n",
    "5. nested if-else-elif."
   ]
  },
  {
   "cell_type": "markdown",
   "id": "489e5df5",
   "metadata": {},
   "source": [
    "###  An if……else statement evaluates like this:\n",
    "\n",
    "##### if the expression evaluates True:\n",
    "Execute the block of code inside if statement. After execution return to the code out of the if……else block.\n",
    "\n",
    "##### if the expression evaluates False:\n",
    "Execute the block of code inside else statement. After execution return to the code out of the if……else block."
   ]
  },
  {
   "cell_type": "code",
   "execution_count": 19,
   "id": "e66e5cf5",
   "metadata": {},
   "outputs": [
    {
     "name": "stdout",
     "output_type": "stream",
     "text": [
      "Alexa, do not add Apples to the cart.\n"
     ]
    }
   ],
   "source": [
    "applePrice = 210\n",
    "budget = 200\n",
    "if applePrice <= budget:\n",
    "    print(\"Alexa, add 1 kg Apples to the cart.\")\n",
    "else:\n",
    "    print(\"Alexa, do not add Apples to the cart.\")"
   ]
  },
  {
   "cell_type": "markdown",
   "id": "455244c6",
   "metadata": {},
   "source": [
    "### elif Statements\n",
    "\n",
    "Sometimes, the programmer may want to evaluate more than one condition, this can be done using an elif statement.\n",
    "\n",
    "Working of an elif statement\n",
    "Execute the block of code inside if statement if the initial expression evaluates to True. After execution return to the code out of the if block.\n",
    "\n",
    "Execute the block of code inside the first elif statement if the expression inside it evaluates True. After execution return to the code out of the if block.\n",
    "\n",
    "Execute the block of code inside the second elif statement if the expression inside it evaluates True. After execution return to the code out of the if block.\n",
    ".\n",
    ".\n",
    ".\n",
    "Execute the block of code inside the nth elif statement if the expression inside it evaluates True. After execution return to the code out of the if block.\n",
    "\n",
    "Execute the block of code inside else statement if none of the expression evaluates to True. After execution return to the code out of the if block."
   ]
  },
  {
   "cell_type": "code",
   "execution_count": 15,
   "id": "a72be251",
   "metadata": {},
   "outputs": [
    {
     "name": "stdout",
     "output_type": "stream",
     "text": [
      "Number is Zero.\n"
     ]
    }
   ],
   "source": [
    "num = 0\n",
    "if (num < 0):\n",
    "    print(\"Number is negative.\")\n",
    "elif (num == 0):\n",
    "    print(\"Number is Zero.\")\n",
    "else:\n",
    "    print(\"Number is positive.\")"
   ]
  },
  {
   "cell_type": "markdown",
   "id": "6f82a0ab",
   "metadata": {},
   "source": [
    "###  Nested if statements\n",
    "\n",
    "We can use if, if-else, elif statements inside other if statements as well.\n"
   ]
  },
  {
   "cell_type": "code",
   "execution_count": 21,
   "id": "8998b2bc",
   "metadata": {},
   "outputs": [
    {
     "name": "stdout",
     "output_type": "stream",
     "text": [
      "Number is between 11-20\n"
     ]
    }
   ],
   "source": [
    "num = 18\n",
    "if (num < 0):\n",
    "    print(\"Number is negative.\")\n",
    "elif (num > 0):\n",
    "    if (num <= 10):\n",
    "        print(\"Number is between 1-10\")\n",
    "    elif (num > 10 and num <= 20):\n",
    "        print(\"Number is between 11-20\")\n",
    "    else:\n",
    "        print(\"Number is greater than 20\")\n",
    "else:\n",
    "    print(\"Number is zero\")"
   ]
  },
  {
   "cell_type": "markdown",
   "id": "0d77064e",
   "metadata": {},
   "source": [
    "# Class Exercises"
   ]
  },
  {
   "cell_type": "markdown",
   "id": "9a04474d",
   "metadata": {},
   "source": [
    "1. Take a number from user and check weather the number is even or odd\n",
    "2. Take a number from user and check weather the number is prime or not"
   ]
  },
  {
   "cell_type": "markdown",
   "id": "50924193",
   "metadata": {},
   "source": [
    "# Introduction to Loops\n",
    "\n",
    "\n",
    "Sometimes a programmer wants to execute a group of statements a certain number of times. This can be done using loops. Based on this loops are further classified into following main types\n",
    "\n",
    "1. for loop\n",
    "\n",
    "2. while loop"
   ]
  },
  {
   "cell_type": "markdown",
   "id": "306118ce",
   "metadata": {},
   "source": [
    "## The for Loop\n",
    "for loops can iterate over a sequence of iterable objects in python. Iterating over a sequence is nothing but iterating over strings, lists, tuples, sets and dictionaries. "
   ]
  },
  {
   "cell_type": "code",
   "execution_count": 22,
   "id": "7bee807d",
   "metadata": {},
   "outputs": [
    {
     "name": "stdout",
     "output_type": "stream",
     "text": [
      "0\n",
      "1\n",
      "2\n",
      "3\n",
      "4\n",
      "5\n"
     ]
    }
   ],
   "source": [
    "for i in range(0,6):\n",
    "    print(i)"
   ]
  },
  {
   "cell_type": "code",
   "execution_count": 23,
   "id": "2ffe8e78",
   "metadata": {},
   "outputs": [
    {
     "name": "stdout",
     "output_type": "stream",
     "text": [
      "H\n",
      "e\n",
      "l\n",
      "l\n",
      "o\n",
      " \n",
      "W\n",
      "o\n",
      "r\n",
      "l\n",
      "d\n"
     ]
    }
   ],
   "source": [
    "name = 'Hello World'\n",
    "for i in name:\n",
    "    print(i)"
   ]
  },
  {
   "cell_type": "code",
   "execution_count": 24,
   "id": "9243185c",
   "metadata": {},
   "outputs": [
    {
     "name": "stdout",
     "output_type": "stream",
     "text": [
      "Red\n",
      "Green\n",
      "Blue\n",
      "Yellow\n"
     ]
    }
   ],
   "source": [
    "colors = [\"Red\", \"Green\", \"Blue\", \"Yellow\"]\n",
    "for x in colors:\n",
    "    print(x)"
   ]
  },
  {
   "cell_type": "markdown",
   "id": "482517da",
   "metadata": {},
   "source": [
    "### range():\n",
    "What if we do not want to iterate over a sequence? What if we want to use for loop for a specific number of times?"
   ]
  },
  {
   "cell_type": "code",
   "execution_count": 3,
   "id": "5303b2c5",
   "metadata": {},
   "outputs": [
    {
     "name": "stdout",
     "output_type": "stream",
     "text": [
      "0\n",
      "1\n",
      "2\n",
      "3\n",
      "4\n"
     ]
    }
   ],
   "source": [
    "for i in range(0,5):\n",
    "    print(i)"
   ]
  },
  {
   "cell_type": "markdown",
   "id": "d861d744",
   "metadata": {},
   "source": [
    "Here, we can see that the loop starts from 0 by default and increments at each iteration.\n",
    "\n",
    "But we can also loop over a specific range."
   ]
  },
  {
   "cell_type": "code",
   "execution_count": 5,
   "id": "31d656d9",
   "metadata": {},
   "outputs": [
    {
     "name": "stdout",
     "output_type": "stream",
     "text": [
      "11\n",
      "12\n",
      "13\n",
      "14\n",
      "15\n",
      "16\n",
      "17\n",
      "18\n"
     ]
    }
   ],
   "source": [
    "for i in range(11,19):\n",
    "    print(i)"
   ]
  },
  {
   "cell_type": "markdown",
   "id": "f28ec213",
   "metadata": {},
   "source": [
    "# Python while Loop\n",
    "As the name suggests, while loops execute statements while the condition is True. As soon as the condition becomes False, the interpreter comes out of the while loop."
   ]
  },
  {
   "cell_type": "code",
   "execution_count": 25,
   "id": "0c506cae",
   "metadata": {},
   "outputs": [
    {
     "name": "stdout",
     "output_type": "stream",
     "text": [
      "5\n",
      "4\n",
      "3\n",
      "2\n",
      "1\n"
     ]
    }
   ],
   "source": [
    "count = 5\n",
    "while (count > 0):\n",
    "    print(count)\n",
    "    count = count - 1"
   ]
  },
  {
   "cell_type": "markdown",
   "id": "aa003fc3",
   "metadata": {},
   "source": [
    "Here, the count variable is set to 5 which decrements after each iteration. Depending upon the while loop condition, we need to either increment or decrement the counter variable (the variable count, in our case) or the loop will continue forever."
   ]
  },
  {
   "cell_type": "markdown",
   "id": "3b2b6230",
   "metadata": {},
   "source": [
    "### Else with While Loop\n",
    "We can even use the else statement with the while loop. Essentially what the else statement does is that as soon as the while loop condition becomes False, the interpreter comes out of the while loop and the else statement is executed. "
   ]
  },
  {
   "cell_type": "code",
   "execution_count": 26,
   "id": "f6780e40",
   "metadata": {},
   "outputs": [
    {
     "name": "stdout",
     "output_type": "stream",
     "text": [
      "5\n",
      "4\n",
      "3\n",
      "2\n",
      "1\n",
      "counter is 0\n"
     ]
    }
   ],
   "source": [
    "x = 5\n",
    "while (x > 0):\n",
    "    print(x)\n",
    "    x = x - 1\n",
    "else:\n",
    "    print('counter is 0')"
   ]
  },
  {
   "cell_type": "markdown",
   "id": "0215c002",
   "metadata": {},
   "source": [
    "## break statement\n",
    "The break statement enables a program to skip over a part of the code. A break statement terminates the very loop it lies within. "
   ]
  },
  {
   "cell_type": "code",
   "execution_count": 27,
   "id": "63c5ec99",
   "metadata": {},
   "outputs": [
    {
     "name": "stdout",
     "output_type": "stream",
     "text": [
      "1 continue\n",
      "2 continue\n",
      "3 continue\n",
      "4 continue\n",
      "5 continue\n",
      "6 continue\n",
      "7 continue\n",
      "8 continue\n",
      "9 continue\n",
      "10 continue\n",
      "11 continue\n",
      "12 continue\n",
      "13 continue\n",
      "14 continue\n",
      "15 continue\n",
      "16 continue\n",
      "17 continue\n",
      "18 continue\n",
      "19 continue\n",
      "20 continue\n",
      "21 continue\n",
      "22 continue\n",
      "23 continue\n",
      "24 continue\n",
      "25 continue\n",
      "26 continue\n",
      "27 continue\n",
      "28 continue\n",
      "29 continue\n",
      "30 continue\n",
      "31 continue\n",
      "32 continue\n",
      "33 continue\n",
      "34 continue\n",
      "35 continue\n",
      "36 continue\n",
      "37 continue\n",
      "38 continue\n",
      "39 continue\n",
      "40 continue\n",
      "41 continue\n",
      "42 continue\n",
      "43 continue\n",
      "44 continue\n",
      "45 continue\n",
      "46 continue\n",
      "47 continue\n",
      "48 continue\n",
      "49 continue\n",
      "50 Thank you\n"
     ]
    }
   ],
   "source": [
    "for i in range(1,101):\n",
    "    print(i ,end=\" \")\n",
    "    if(i==50):\n",
    "        break\n",
    "    else:\n",
    "        print(\"continue\")\n",
    "print(\"Thank you\")"
   ]
  },
  {
   "cell_type": "markdown",
   "id": "09b371a6",
   "metadata": {},
   "source": [
    "## Continue Statement\n",
    "The continue statement skips the rest of the loop statements and causes the next iteration to occur."
   ]
  },
  {
   "cell_type": "code",
   "execution_count": 11,
   "id": "c25739fa",
   "metadata": {},
   "outputs": [
    {
     "name": "stdout",
     "output_type": "stream",
     "text": [
      "2\n",
      "4\n",
      "6\n",
      "8\n",
      "0\n"
     ]
    }
   ],
   "source": [
    "for i in [2,3,4,6,8,0]:\n",
    "    if (i%2 != 0):\n",
    "        continue\n",
    "    print(i)"
   ]
  },
  {
   "cell_type": "markdown",
   "id": "34999fe5",
   "metadata": {},
   "source": [
    "# Python Functions\n",
    "\n",
    "\n",
    "A function is a block of code that performs a specific task whenever it is called. In bigger programs, where we have large amounts of code, it is advisable to create or use existing functions that make the program flow organized and neat.\n",
    "\n",
    "\n",
    "\n",
    "There are two types of functions:\n",
    "\n",
    "Built-in functions\n",
    "\n",
    "User-defined functions\n",
    "\n",
    "\n",
    "### Built-in functions:\n",
    "\n",
    "These functions are defined and pre-coded in python. Some examples of built-in functions are as follows:\n",
    "\n",
    "min(), max(), len(), sum(), type(), range(), dict(), list(), tuple(), set(), print(), etc.\n",
    "\n",
    "\n",
    "\n",
    "### User-defined functions:\n",
    "\n",
    "We can create functions to perform specific tasks as per our needs. Such functions are called user-defined functions.\n",
    "\n"
   ]
  },
  {
   "cell_type": "code",
   "execution_count": 1,
   "id": "1f650072",
   "metadata": {},
   "outputs": [],
   "source": [
    "def function_name(parameters):\n",
    "    pass\n",
    "  # Code and Statements"
   ]
  },
  {
   "cell_type": "markdown",
   "id": "139b7cbd",
   "metadata": {},
   "source": [
    "1. Create a function using the def keyword, followed by a function name, followed by a paranthesis (()) and a colon(:).\n",
    "\n",
    "2. Any parameters and arguments should be placed within the parentheses.\n",
    "\n",
    "3. Rules to naming function are similar to that of naming variables.\n",
    "\n",
    "4. Any statements and other code within the function should be indented."
   ]
  },
  {
   "cell_type": "markdown",
   "id": "125096ad",
   "metadata": {},
   "source": [
    "###### Calling a function:\n",
    "We call a function by giving the function name, followed by parameters (if any) in the parenthesis."
   ]
  },
  {
   "cell_type": "code",
   "execution_count": 2,
   "id": "45d76ca5",
   "metadata": {},
   "outputs": [
    {
     "name": "stdout",
     "output_type": "stream",
     "text": [
      "Hello, Ahmed Raza\n"
     ]
    }
   ],
   "source": [
    "def name(fname, lname):\n",
    "    print(\"Hello,\", fname, lname)\n",
    "\n",
    "name(\"Ahmed\", \"Raza\")"
   ]
  },
  {
   "cell_type": "markdown",
   "id": "18c93ed7",
   "metadata": {},
   "source": [
    "## Function Arguments and return statement\n"
   ]
  },
  {
   "cell_type": "markdown",
   "id": "0aff201e",
   "metadata": {},
   "source": [
    "There are four types of arguments that we can provide in a function:\n",
    "\n",
    "Default Arguments\n",
    "\n",
    "Keyword Arguments\n",
    "\n",
    "Variable length Arguments\n",
    "\n",
    "Required Arguments"
   ]
  },
  {
   "cell_type": "markdown",
   "id": "ad8b0180",
   "metadata": {},
   "source": [
    "### Default arguments:\n",
    "We can provide a default value while creating a function. This way the function assumes a default value even if a value is not provided in the function call for that argument."
   ]
  },
  {
   "cell_type": "code",
   "execution_count": 3,
   "id": "c6f6a07a",
   "metadata": {},
   "outputs": [
    {
     "name": "stdout",
     "output_type": "stream",
     "text": [
      "Hello, Amy Jhon Whatson\n"
     ]
    }
   ],
   "source": [
    "def name(fname, mname = \"Jhon\", lname = \"Whatson\"):\n",
    "    print(\"Hello,\", fname, mname, lname)\n",
    "\n",
    "name(\"Amy\")"
   ]
  },
  {
   "cell_type": "markdown",
   "id": "be63bf6b",
   "metadata": {},
   "source": [
    "### Keyword arguments:\n",
    "We can provide arguments with key = value, this way the interpreter recognizes the arguments by the parameter name. Hence, the the order in which the arguments are passed does not matter."
   ]
  },
  {
   "cell_type": "code",
   "execution_count": 4,
   "id": "92d9e938",
   "metadata": {},
   "outputs": [
    {
     "name": "stdout",
     "output_type": "stream",
     "text": [
      "Hello, Jade Peter Wesker\n"
     ]
    }
   ],
   "source": [
    "def name(fname, mname, lname):\n",
    "    print(\"Hello,\", fname, mname, lname)\n",
    "\n",
    "name(mname = \"Peter\", lname = \"Wesker\", fname = \"Jade\")"
   ]
  },
  {
   "cell_type": "markdown",
   "id": "c32354a0",
   "metadata": {},
   "source": [
    "### Required arguments:\n",
    "In case we don’t pass the arguments with a key = value syntax, then it is necessary to pass the arguments in the correct positional order and the number of arguments passed should match with actual function definition.\n",
    "\n",
    "Example 1: when number of arguments passed does not match to the actual function definition."
   ]
  },
  {
   "cell_type": "code",
   "execution_count": 5,
   "id": "fe67c5af",
   "metadata": {},
   "outputs": [
    {
     "ename": "TypeError",
     "evalue": "name() missing 1 required positional argument: 'lname'",
     "output_type": "error",
     "traceback": [
      "\u001b[1;31m---------------------------------------------------------------------------\u001b[0m",
      "\u001b[1;31mTypeError\u001b[0m                                 Traceback (most recent call last)",
      "\u001b[1;32m~\\AppData\\Local\\Temp\\ipykernel_9064\\919461427.py\u001b[0m in \u001b[0;36m<module>\u001b[1;34m\u001b[0m\n\u001b[0;32m      2\u001b[0m     \u001b[0mprint\u001b[0m\u001b[1;33m(\u001b[0m\u001b[1;34m\"Hello,\"\u001b[0m\u001b[1;33m,\u001b[0m \u001b[0mfname\u001b[0m\u001b[1;33m,\u001b[0m \u001b[0mmname\u001b[0m\u001b[1;33m,\u001b[0m \u001b[0mlname\u001b[0m\u001b[1;33m)\u001b[0m\u001b[1;33m\u001b[0m\u001b[1;33m\u001b[0m\u001b[0m\n\u001b[0;32m      3\u001b[0m \u001b[1;33m\u001b[0m\u001b[0m\n\u001b[1;32m----> 4\u001b[1;33m \u001b[0mname\u001b[0m\u001b[1;33m(\u001b[0m\u001b[1;34m\"Peter\"\u001b[0m\u001b[1;33m,\u001b[0m \u001b[1;34m\"Quill\"\u001b[0m\u001b[1;33m)\u001b[0m\u001b[1;33m\u001b[0m\u001b[1;33m\u001b[0m\u001b[0m\n\u001b[0m",
      "\u001b[1;31mTypeError\u001b[0m: name() missing 1 required positional argument: 'lname'"
     ]
    }
   ],
   "source": [
    "def name(fname, mname, lname):\n",
    "    print(\"Hello,\", fname, mname, lname)\n",
    "\n",
    "name(\"Peter\", \"Quill\")"
   ]
  },
  {
   "cell_type": "markdown",
   "id": "174ede9c",
   "metadata": {},
   "source": [
    "Example 2: when number of arguments passed matches to the actual function definition."
   ]
  },
  {
   "cell_type": "code",
   "execution_count": 6,
   "id": "7314e4d2",
   "metadata": {},
   "outputs": [
    {
     "name": "stdout",
     "output_type": "stream",
     "text": [
      "Hello, Peter Ego Quill\n"
     ]
    }
   ],
   "source": [
    "def name(fname, mname, lname):\n",
    "    print(\"Hello,\", fname, mname, lname)\n",
    "\n",
    "name(\"Peter\", \"Ego\", \"Quill\")"
   ]
  },
  {
   "cell_type": "markdown",
   "id": "038b1a0f",
   "metadata": {},
   "source": [
    "### Variable-length arguments:"
   ]
  },
  {
   "cell_type": "markdown",
   "id": "99b6950e",
   "metadata": {},
   "source": [
    "Sometimes we may need to pass more arguments than those defined in the actual function. This can be done using variable-length arguments."
   ]
  },
  {
   "cell_type": "code",
   "execution_count": 7,
   "id": "26afc18f",
   "metadata": {},
   "outputs": [
    {
     "name": "stdout",
     "output_type": "stream",
     "text": [
      "Hello, James Buchanan Barnes\n"
     ]
    }
   ],
   "source": [
    "def name(*name):\n",
    "    print(\"Hello,\", name[0], name[1], name[2])\n",
    "\n",
    "name(\"James\", \"Buchanan\", \"Barnes\")"
   ]
  },
  {
   "cell_type": "markdown",
   "id": "06a6e0ed",
   "metadata": {},
   "source": [
    "## return Statement\n",
    "\n",
    "The return statement is used to return the value of the expression back to the calling function."
   ]
  },
  {
   "cell_type": "code",
   "execution_count": 8,
   "id": "8109564e",
   "metadata": {},
   "outputs": [
    {
     "name": "stdout",
     "output_type": "stream",
     "text": [
      "Hello, James Buchanan Barnes\n"
     ]
    }
   ],
   "source": [
    "def name(fname, mname, lname):\n",
    "    return \"Hello, \" + fname + \" \" + mname + \" \" + lname\n",
    "\n",
    "print(name(\"James\", \"Buchanan\", \"Barnes\"))"
   ]
  },
  {
   "cell_type": "markdown",
   "id": "7dcb628a",
   "metadata": {},
   "source": [
    "### Python Lists\n",
    "1. Lists are ordered collection of data items.\n",
    "\n",
    "2. They store multiple items in a single variable.\n",
    "\n",
    "3. List items are separated by commas and enclosed within square brackets []\n",
    ".\n",
    "4. Lists are changeable meaning we can alter them after creation."
   ]
  },
  {
   "cell_type": "code",
   "execution_count": 9,
   "id": "eb5c0b35",
   "metadata": {},
   "outputs": [
    {
     "name": "stdout",
     "output_type": "stream",
     "text": [
      "[1, 2, 2, 3, 5, 4, 6]\n",
      "['Red', 'Green', 'Blue']\n"
     ]
    }
   ],
   "source": [
    "lst1 = [1,2,2,3,5,4,6]\n",
    "lst2 = [\"Red\", \"Green\", \"Blue\"]\n",
    "print(lst1)\n",
    "print(lst2)"
   ]
  },
  {
   "cell_type": "code",
   "execution_count": 10,
   "id": "5020e767",
   "metadata": {},
   "outputs": [
    {
     "name": "stdout",
     "output_type": "stream",
     "text": [
      "['Abhijeet', 18, 'FYBScIT', 9.8]\n"
     ]
    }
   ],
   "source": [
    "details = [\"Abhijeet\", 18, \"FYBScIT\", 9.8]\n",
    "print(details)"
   ]
  },
  {
   "cell_type": "markdown",
   "id": "3a9c9be7",
   "metadata": {},
   "source": [
    "As we can see, a single list can contain items of different data types."
   ]
  },
  {
   "cell_type": "markdown",
   "id": "9be446dd",
   "metadata": {},
   "source": [
    "## List Index\n",
    "Each item/element in a list has its own unique index. This index can be used to access any particular item from the list. The first item has index [0], second item has index [1], third item has index [2] and so on."
   ]
  },
  {
   "cell_type": "code",
   "execution_count": 11,
   "id": "f6850714",
   "metadata": {},
   "outputs": [],
   "source": [
    "colors = [\"Red\", \"Green\", \"Blue\", \"Yellow\", \"Green\"]\n",
    "#          [0]      [1]     [2]      [3]      [4]"
   ]
  },
  {
   "cell_type": "markdown",
   "id": "3edb4f6a",
   "metadata": {},
   "source": [
    "## Accessing list items\n",
    "We can access list items by using its index with the square bracket syntax []. For example colors[0] will give \"Red\", colors[1] will give \"Green\" and so on..."
   ]
  },
  {
   "cell_type": "markdown",
   "id": "d9026859",
   "metadata": {},
   "source": [
    "### Positive Indexing:\n",
    "As we have seen that list items have index, as such we can access items using these indexes."
   ]
  },
  {
   "cell_type": "code",
   "execution_count": 12,
   "id": "f415bc87",
   "metadata": {},
   "outputs": [
    {
     "name": "stdout",
     "output_type": "stream",
     "text": [
      "Blue\n",
      "Green\n",
      "Red\n"
     ]
    }
   ],
   "source": [
    "colors = [\"Red\", \"Green\", \"Blue\", \"Yellow\", \"Green\"]\n",
    "#          [0]      [1]     [2]      [3]      [4]\n",
    "print(colors[2])\n",
    "print(colors[4])\n",
    "print(colors[0])"
   ]
  },
  {
   "cell_type": "markdown",
   "id": "9c72d417",
   "metadata": {},
   "source": [
    "### Negative Indexing:\n",
    "Similar to positive indexing, negative indexing is also used to access items, but from the end of the list. The last item has index [-1], second last item has index [-2], third last item has index [-3] and so on."
   ]
  },
  {
   "cell_type": "code",
   "execution_count": 13,
   "id": "6c7e4814",
   "metadata": {},
   "outputs": [
    {
     "name": "stdout",
     "output_type": "stream",
     "text": [
      "Green\n",
      "Blue\n",
      "Red\n"
     ]
    }
   ],
   "source": [
    "colors = [\"Red\", \"Green\", \"Blue\", \"Yellow\", \"Green\"]\n",
    "#          [-5]    [-4]    [-3]     [-2]      [-1]\n",
    "print(colors[-1])\n",
    "print(colors[-3])\n",
    "print(colors[-5])"
   ]
  },
  {
   "cell_type": "markdown",
   "id": "febf43fd",
   "metadata": {},
   "source": [
    "### Check whether an item in present in the list?\n",
    "\n",
    "We can check if a given item is present in the list. This is done using the in keyword.\n",
    "\n"
   ]
  },
  {
   "cell_type": "code",
   "execution_count": 14,
   "id": "423b30b1",
   "metadata": {},
   "outputs": [
    {
     "name": "stdout",
     "output_type": "stream",
     "text": [
      "Yellow is present.\n"
     ]
    }
   ],
   "source": [
    "colors = [\"Red\", \"Green\", \"Blue\", \"Yellow\", \"Green\"]\n",
    "if \"Yellow\" in colors:\n",
    "    print(\"Yellow is present.\")\n",
    "else:\n",
    "    print(\"Yellow is absent.\")"
   ]
  },
  {
   "cell_type": "code",
   "execution_count": 15,
   "id": "64c88931",
   "metadata": {},
   "outputs": [
    {
     "name": "stdout",
     "output_type": "stream",
     "text": [
      "Orange is absent.\n"
     ]
    }
   ],
   "source": [
    "colors = [\"Red\", \"Green\", \"Blue\", \"Yellow\", \"Green\"]\n",
    "if \"Orange\" in colors:\n",
    "    print(\"Orange is present.\")\n",
    "else:\n",
    "    print(\"Orange is absent.\")"
   ]
  },
  {
   "cell_type": "markdown",
   "id": "aaa3a409",
   "metadata": {},
   "source": [
    "### Range of Index:\n",
    "You can print a range of list items by specifying where you want to start, where do you want to end and if you want to skip elements in between the range."
   ]
  },
  {
   "cell_type": "markdown",
   "id": "30a186a1",
   "metadata": {},
   "source": [
    "listName[start : end : jumpIndex]\n",
    "\n",
    "Note: jump Index is optional. We will see this in later examples."
   ]
  },
  {
   "cell_type": "code",
   "execution_count": 17,
   "id": "ce0e79d3",
   "metadata": {},
   "outputs": [
    {
     "name": "stdout",
     "output_type": "stream",
     "text": [
      "['mouse', 'pig', 'horse', 'donkey']\n",
      "['bat', 'mouse', 'pig', 'horse', 'donkey']\n"
     ]
    }
   ],
   "source": [
    "animals = [\"cat\", \"dog\", \"bat\", \"mouse\", \"pig\", \"horse\", \"donkey\", \"goat\", \"cow\"]\n",
    "print(animals[3:7])\t#using positive indexes\n",
    "print(animals[-7:-2])\t#using negative indexes'"
   ]
  },
  {
   "cell_type": "markdown",
   "id": "40df7595",
   "metadata": {},
   "source": [
    "Here, we provide index of the element from where we want to start and the index of the element till which we want to print the values.\n",
    "\n",
    "Note: The element of the end index provided will not be included."
   ]
  },
  {
   "cell_type": "markdown",
   "id": "8bd29af0",
   "metadata": {},
   "source": [
    "Example: printing all elements from start to a given index"
   ]
  },
  {
   "cell_type": "code",
   "execution_count": 18,
   "id": "d6322751",
   "metadata": {},
   "outputs": [
    {
     "name": "stdout",
     "output_type": "stream",
     "text": [
      "['cat', 'dog', 'bat', 'mouse', 'pig', 'horse']\n",
      "['cat', 'dog', 'bat', 'mouse', 'pig', 'horse']\n"
     ]
    }
   ],
   "source": [
    "animals = [\"cat\", \"dog\", \"bat\", \"mouse\", \"pig\", \"horse\", \"donkey\", \"goat\", \"cow\"]\n",
    "print(animals[:6])\t#using positive indexes\n",
    "print(animals[:-3])\t#using negative indexes"
   ]
  },
  {
   "cell_type": "markdown",
   "id": "2b3debf2",
   "metadata": {},
   "source": [
    "When no start index is provided, the interpreter prints all the values from start up to the end index provided."
   ]
  },
  {
   "cell_type": "code",
   "execution_count": 19,
   "id": "28751bbe",
   "metadata": {},
   "outputs": [
    {
     "name": "stdout",
     "output_type": "stream",
     "text": [
      "['cat', 'bat', 'pig', 'donkey', 'cow']\n",
      "['dog', 'mouse', 'horse', 'goat']\n"
     ]
    }
   ],
   "source": [
    "animals = [\"cat\", \"dog\", \"bat\", \"mouse\", \"pig\", \"horse\", \"donkey\", \"goat\", \"cow\"]\n",
    "print(animals[::2])\t\t#using positive indexes\n",
    "print(animals[-8:-1:2])\t#using negative indexes"
   ]
  },
  {
   "cell_type": "markdown",
   "id": "11b8bef9",
   "metadata": {},
   "source": [
    "Here, we have not provided start and index, which means all the values will be considered. But as we have provided a jump index of 2 only alternate values will be printed."
   ]
  },
  {
   "cell_type": "markdown",
   "id": "c753faad",
   "metadata": {},
   "source": [
    "Example: printing every 3rd consecutive value withing a given range"
   ]
  },
  {
   "cell_type": "code",
   "execution_count": 20,
   "id": "bbd23010",
   "metadata": {},
   "outputs": [
    {
     "name": "stdout",
     "output_type": "stream",
     "text": [
      "['dog', 'pig', 'goat']\n"
     ]
    }
   ],
   "source": [
    "animals = [\"cat\", \"dog\", \"bat\", \"mouse\", \"pig\", \"horse\", \"donkey\", \"goat\", \"cow\"]\n",
    "print(animals[1:8:3])"
   ]
  },
  {
   "cell_type": "markdown",
   "id": "139bf4b0",
   "metadata": {},
   "source": [
    "Here, jump index is 3. Hence it prints every 3rd element within given index."
   ]
  },
  {
   "cell_type": "markdown",
   "id": "bbee1cde",
   "metadata": {},
   "source": [
    "# List Methods\n"
   ]
  },
  {
   "cell_type": "markdown",
   "id": "61839c3f",
   "metadata": {},
   "source": [
    "#### list.sort()\n",
    "This method sorts the list in ascending order. The original list is updated"
   ]
  },
  {
   "cell_type": "code",
   "execution_count": 21,
   "id": "ee7a2a14",
   "metadata": {},
   "outputs": [
    {
     "name": "stdout",
     "output_type": "stream",
     "text": [
      "['blue', 'green', 'indigo', 'voilet']\n",
      "[1, 1, 2, 2, 2, 3, 4, 5, 6, 7, 8, 9]\n"
     ]
    }
   ],
   "source": [
    "colors = [\"voilet\", \"indigo\", \"blue\", \"green\"]\n",
    "colors.sort()\n",
    "print(colors)\n",
    "\n",
    "num = [4,2,5,3,6,1,2,1,2,8,9,7]\n",
    "num.sort()\n",
    "print(num)"
   ]
  },
  {
   "cell_type": "markdown",
   "id": "e93162c6",
   "metadata": {},
   "source": [
    "What if you want to print the list in descending order?\n",
    "\n",
    "We must give reverse=True as a parameter in the sort method."
   ]
  },
  {
   "cell_type": "code",
   "execution_count": 22,
   "id": "ddb14d82",
   "metadata": {},
   "outputs": [
    {
     "name": "stdout",
     "output_type": "stream",
     "text": [
      "['voilet', 'indigo', 'green', 'blue']\n",
      "[9, 8, 7, 6, 5, 4, 3, 2, 2, 2, 1, 1]\n"
     ]
    }
   ],
   "source": [
    "colors = [\"voilet\", \"indigo\", \"blue\", \"green\"]\n",
    "colors.sort(reverse=True)\n",
    "print(colors)\n",
    "\n",
    "num = [4,2,5,3,6,1,2,1,2,8,9,7]\n",
    "num.sort(reverse=True)\n",
    "print(num)"
   ]
  },
  {
   "cell_type": "markdown",
   "id": "0d520bbf",
   "metadata": {},
   "source": [
    "The reverse parameter is set to False by default.\n",
    "\n",
    "Note: Do not mistake the reverse parameter with the reverse method."
   ]
  },
  {
   "cell_type": "markdown",
   "id": "0041b1e8",
   "metadata": {},
   "source": [
    "#### reverse()\n",
    "This method reverses the order of the list."
   ]
  },
  {
   "cell_type": "code",
   "execution_count": 24,
   "id": "896f2f42",
   "metadata": {},
   "outputs": [
    {
     "name": "stdout",
     "output_type": "stream",
     "text": [
      "['green', 'blue', 'indigo', 'voilet']\n",
      "[7, 9, 8, 2, 1, 2, 1, 6, 3, 5, 2, 4]\n"
     ]
    }
   ],
   "source": [
    "colors = [\"voilet\", \"indigo\", \"blue\", \"green\"]\n",
    "colors.reverse()\n",
    "print(colors)\n",
    "\n",
    "num = [4,2,5,3,6,1,2,1,2,8,9,7]\n",
    "num.reverse()\n",
    "print(num)"
   ]
  },
  {
   "cell_type": "markdown",
   "id": "3749bb13",
   "metadata": {},
   "source": [
    "### index()\n",
    "This method returns the index of the first occurrence of the list item"
   ]
  },
  {
   "cell_type": "code",
   "execution_count": 25,
   "id": "50ecd380",
   "metadata": {},
   "outputs": [
    {
     "name": "stdout",
     "output_type": "stream",
     "text": [
      "1\n",
      "3\n"
     ]
    }
   ],
   "source": [
    "colors = [\"voilet\", \"green\", \"indigo\", \"blue\", \"green\"]\n",
    "print(colors.index(\"green\"))\n",
    "\n",
    "num = [4,2,5,3,6,1,2,1,3,2,8,9,7]\n",
    "print(num.index(3))"
   ]
  },
  {
   "cell_type": "markdown",
   "id": "05e2328a",
   "metadata": {},
   "source": [
    "### count()\n",
    "Returns the count of the number of items with the given value."
   ]
  },
  {
   "cell_type": "code",
   "execution_count": 26,
   "id": "cd425be6",
   "metadata": {},
   "outputs": [
    {
     "name": "stdout",
     "output_type": "stream",
     "text": [
      "2\n",
      "2\n"
     ]
    }
   ],
   "source": [
    "colors = [\"voilet\", \"green\", \"indigo\", \"blue\", \"green\"]\n",
    "print(colors.count(\"green\"))\n",
    "\n",
    "num = [4,2,5,3,6,1,2,1,3,2,8,9,7]\n",
    "print(num.count(1))"
   ]
  },
  {
   "cell_type": "markdown",
   "id": "2e02ae4f",
   "metadata": {},
   "source": [
    "### copy()\n",
    "Returns copy of the list. This can be done to perform operations on the list without modifying the original list"
   ]
  },
  {
   "cell_type": "code",
   "execution_count": 27,
   "id": "a05f66f7",
   "metadata": {},
   "outputs": [
    {
     "name": "stdout",
     "output_type": "stream",
     "text": [
      "['voilet', 'green', 'indigo', 'blue']\n",
      "['voilet', 'green', 'indigo', 'blue']\n"
     ]
    }
   ],
   "source": [
    "colors = [\"voilet\", \"green\", \"indigo\", \"blue\"]\n",
    "newlist = colors.copy()\n",
    "print(colors)\n",
    "print(newlist)"
   ]
  },
  {
   "cell_type": "markdown",
   "id": "aa813d9a",
   "metadata": {},
   "source": [
    "### append():\n",
    "This method appends items to the end of the existing list."
   ]
  },
  {
   "cell_type": "code",
   "execution_count": 28,
   "id": "33299954",
   "metadata": {},
   "outputs": [
    {
     "name": "stdout",
     "output_type": "stream",
     "text": [
      "['voilet', 'indigo', 'blue', 'green']\n"
     ]
    }
   ],
   "source": [
    "colors = [\"voilet\", \"indigo\", \"blue\"]\n",
    "colors.append(\"green\")\n",
    "print(colors)"
   ]
  },
  {
   "cell_type": "markdown",
   "id": "3eb118d9",
   "metadata": {},
   "source": [
    "### insert():\n",
    "This method inserts an item at the given index. User has to specify index and the item to be inserted within the insert() method."
   ]
  },
  {
   "cell_type": "code",
   "execution_count": 29,
   "id": "4316c1ee",
   "metadata": {},
   "outputs": [
    {
     "name": "stdout",
     "output_type": "stream",
     "text": [
      "['voilet', 'green', 'indigo', 'blue']\n"
     ]
    }
   ],
   "source": [
    "colors = [\"voilet\", \"indigo\", \"blue\"]\n",
    "#           [0]        [1]      [2]\n",
    "\n",
    "colors.insert(1, \"green\")   #inserts item at index 1\n",
    "# updated list: colors = [\"voilet\", \"green\", \"indigo\", \"blue\"]\n",
    "#       indexs              [0]       [1]       [2]      [3]\n",
    "\n",
    "print(colors)"
   ]
  },
  {
   "cell_type": "markdown",
   "id": "608edf8f",
   "metadata": {},
   "source": [
    "### extend():\n",
    "This method adds an entire list or any other collection datatype (set, tuple, dictionary) to the existing list."
   ]
  },
  {
   "cell_type": "code",
   "execution_count": 30,
   "id": "7d0008e3",
   "metadata": {},
   "outputs": [
    {
     "name": "stdout",
     "output_type": "stream",
     "text": [
      "['voilet', 'indigo', 'blue', 'green', 'yellow', 'orange', 'red']\n"
     ]
    }
   ],
   "source": [
    "#add a list to a list\n",
    "colors = [\"voilet\", \"indigo\", \"blue\"]\n",
    "rainbow = [\"green\", \"yellow\", \"orange\", \"red\"]\n",
    "colors.extend(rainbow)\n",
    "print(colors)"
   ]
  },
  {
   "cell_type": "markdown",
   "id": "8bd717f2",
   "metadata": {},
   "source": [
    "### Concatenating two lists:\n",
    "You can simply concatenate two lists to join two lists."
   ]
  },
  {
   "cell_type": "code",
   "execution_count": 31,
   "id": "3c370874",
   "metadata": {},
   "outputs": [
    {
     "name": "stdout",
     "output_type": "stream",
     "text": [
      "['voilet', 'indigo', 'blue', 'green', 'yellow', 'orange', 'red']\n"
     ]
    }
   ],
   "source": [
    "colors = [\"voilet\", \"indigo\", \"blue\", \"green\"]\n",
    "colors2 = [\"yellow\", \"orange\", \"red\"]\n",
    "print(colors + colors2)"
   ]
  },
  {
   "cell_type": "code",
   "execution_count": null,
   "id": "3d35cc4e",
   "metadata": {},
   "outputs": [],
   "source": []
  }
 ],
 "metadata": {
  "kernelspec": {
   "display_name": "Python 3 (ipykernel)",
   "language": "python",
   "name": "python3"
  },
  "language_info": {
   "codemirror_mode": {
    "name": "ipython",
    "version": 3
   },
   "file_extension": ".py",
   "mimetype": "text/x-python",
   "name": "python",
   "nbconvert_exporter": "python",
   "pygments_lexer": "ipython3",
   "version": "3.9.13"
  }
 },
 "nbformat": 4,
 "nbformat_minor": 5
}
