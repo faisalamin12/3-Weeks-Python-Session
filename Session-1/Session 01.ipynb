{
 "cells": [
  {
   "cell_type": "markdown",
   "id": "9a17c8a3",
   "metadata": {},
   "source": [
    "# Print statement\n"
   ]
  },
  {
   "cell_type": "markdown",
   "id": "63c68344",
   "metadata": {},
   "source": [
    "The syntax of a print statement looks something like this:\n",
    "\n"
   ]
  },
  {
   "cell_type": "markdown",
   "id": "a537fb69",
   "metadata": {},
   "source": [
    "print(object(s), sep=separator, end=end, file=file, flush=flush)"
   ]
  },
  {
   "cell_type": "markdown",
   "id": "873909e2",
   "metadata": {},
   "source": [
    "## Other Parameters of Print Statement\n"
   ]
  },
  {
   "cell_type": "markdown",
   "id": "fb37fb29",
   "metadata": {},
   "source": [
    "1. object(s): Any object, and as many as you like. Will be converted to string before printed\n",
    "2. sep='separator': Specify how to separate the objects, if there is more than one. Default is ' '\n",
    "3. end='end': Specify what to print at the end. Default is '\\n' (line feed)\n",
    "file: An object with a write method. Default is sys.stdout\n",
    "\n",
    "Parameters 2 to 4 are optional"
   ]
  },
  {
   "cell_type": "markdown",
   "id": "76f3c1b9",
   "metadata": {},
   "source": [
    "# What is a variable?\n",
    "\n",
    "\n",
    "Variable is like a container that holds data. Very similar to how our containers in kitchen holds sugar, salt etc Creating a variable is like creating a placeholder in memory and assigning it some value. In Python its as easy as writing:\n",
    "\n"
   ]
  },
  {
   "cell_type": "code",
   "execution_count": 1,
   "id": "b79df4fa",
   "metadata": {},
   "outputs": [],
   "source": [
    "a = 1\n",
    "b = True\n",
    "c = \"Hello World\"\n",
    "d = None"
   ]
  },
  {
   "cell_type": "markdown",
   "id": "07c980f5",
   "metadata": {},
   "source": [
    "These are four variables of different data types.\n",
    "\n"
   ]
  },
  {
   "cell_type": "markdown",
   "id": "25fd9e65",
   "metadata": {},
   "source": [
    "### What is a Data Type?\n",
    "Data type specifies the type of value a variable holds. This is required in programming to do various operations without causing an error. "
   ]
  },
  {
   "cell_type": "markdown",
   "id": "53aeef47",
   "metadata": {},
   "source": [
    "By default, python provides the following built-in data types:"
   ]
  },
  {
   "cell_type": "markdown",
   "id": "24eeb35c",
   "metadata": {},
   "source": [
    "1. Numeric data: int, float, complex\n",
    "\n",
    "i. int: 3, -8, 0\n",
    "\n",
    "ii. float: 7.349, -9.0, 0.0000001\n",
    "\n",
    "iii. complex: 6 + 2\n",
    "\n",
    "\n",
    "2.  Text data: str\n",
    "\n",
    "\n",
    "str: \"Hello World!!!\", \"Python Programming\"\n",
    "\n",
    "3. Boolean data:\n",
    "\n",
    "\n",
    "Boolean data consists of values True or False."
   ]
  },
  {
   "cell_type": "markdown",
   "id": "cbec5ed5",
   "metadata": {},
   "source": [
    "## Exercise\n",
    "\n",
    "1. Create a program through which you can add , subtract , multiply  and divide two numbers\n",
    "\n",
    "\n",
    "2. \n",
    "\n",
    "\n",
    "a = 9\n",
    "\n",
    "b = 11\n",
    "\n",
    "Swap the values of these two variables\n",
    "\n",
    "Expected Output :\n",
    "\n",
    "a = 11\n",
    "\n",
    "b = 9\n",
    "\n"
   ]
  },
  {
   "cell_type": "markdown",
   "id": "28e8ea3e",
   "metadata": {},
   "source": [
    "## Operators in Python\n",
    "\n",
    "Python has different types of operators for different operations. To create a calculator we require arithmetic operators.\n",
    " "
   ]
  },
  {
   "cell_type": "code",
   "execution_count": 2,
   "id": "b3895e7f",
   "metadata": {},
   "outputs": [
    {
     "name": "stdout",
     "output_type": "stream",
     "text": [
      "Addition of 15 and 7 is 22\n",
      "Subtraction of 15 and 7 is 8\n",
      "Multiplication of 15 and 7 is 105\n",
      "Division of 15 and 7 is 2.142857142857143\n",
      "Modulus of 15 and 7 is 1\n",
      "Floor Division of 15 and 7 is 2\n"
     ]
    }
   ],
   "source": [
    "n = 15\n",
    "m = 7\n",
    "ans1 = n+m\n",
    "print(\"Addition of\",n,\"and\",m,\"is\", ans1)\n",
    "ans2 = n-m\n",
    "print(\"Subtraction of\",n,\"and\",m,\"is\", ans2)\n",
    "ans3 = n*m\n",
    "print(\"Multiplication of\",n,\"and\",m,\"is\", ans3)\n",
    "ans4 = n/m\n",
    "print(\"Division of\",n,\"and\",m,\"is\", ans4)\n",
    "ans5 = n%m\n",
    "print(\"Modulus of\",n,\"and\",m,\"is\", ans5)\n",
    "ans6 = n//m\n",
    "print(\"Floor Division of\",n,\"and\",m,\"is\", ans6)"
   ]
  },
  {
   "cell_type": "markdown",
   "id": "5e721d77",
   "metadata": {},
   "source": [
    "Here 'n' and 'm' are two variables in which the integer value is being stored. Variables 'ans1' , 'ans2' ,'ans3', 'ans4','ans5' and 'ans6' contains the outputs corresponding to addition, subtraction,multiplication, division, modulus and floor division respectively.\n",
    "\n"
   ]
  },
  {
   "cell_type": "markdown",
   "id": "9d942724",
   "metadata": {},
   "source": [
    "# Typecasting in python\n",
    "The conversion of one data type into the other data type is known as type casting in python or type conversion in python.\n",
    "\n",
    "Python supports a wide variety of functions or methods like: int(), float(), str(), ord(), hex(), oct(), tuple(), set(), list(), dict(), etc. for the type casting in python.\n"
   ]
  },
  {
   "cell_type": "markdown",
   "id": "eaf18914",
   "metadata": {},
   "source": [
    "# Two Types of Typecasting:\n",
    "Explicit Conversion (Explicit type casting in python)\n",
    "\n",
    "Implicit Conversion (Implicit type casting in python). "
   ]
  },
  {
   "cell_type": "markdown",
   "id": "52363942",
   "metadata": {},
   "source": [
    "### Explicit typecasting:\n",
    "he conversion of one data type into another data type, done via developer or programmer's intervention or manually as per the requirement, is known as explicit type conversion.\n",
    "\n",
    "It can be achieved with the help of Python’s built-in type conversion functions such as int(), float(), hex(), oct(), str(), etc . "
   ]
  },
  {
   "cell_type": "code",
   "execution_count": 3,
   "id": "1d7fff6d",
   "metadata": {},
   "outputs": [
    {
     "name": "stdout",
     "output_type": "stream",
     "text": [
      "The Sum of both the numbers is:  22\n"
     ]
    }
   ],
   "source": [
    "string = \"15\"\n",
    "number = 7\n",
    "string_number = int(string) #throws an error if the string is not a valid integer\n",
    "sum= number + string_number\n",
    "print(\"The Sum of both the numbers is: \", sum)"
   ]
  },
  {
   "cell_type": "markdown",
   "id": "4df1d532",
   "metadata": {},
   "source": [
    "### Implicit type casting:\n",
    "Data types in Python do not have the same level i.e. ordering of data types is not the same in Python. Some of the data types have higher-order, and some have lower order. While performing any operations on variables with different data types in Python, one of the variable's data types will be changed to the higher data type. According to the level, one data type is converted into other by the Python interpreter itself (automatically). This is called, implicit typecasting in python. \n",
    "\n",
    "Python converts a smaller data type to a higher data type to prevent data loss."
   ]
  },
  {
   "cell_type": "code",
   "execution_count": 4,
   "id": "d2712552",
   "metadata": {},
   "outputs": [
    {
     "name": "stdout",
     "output_type": "stream",
     "text": [
      "<class 'int'>\n",
      "<class 'float'>\n",
      "10.0\n",
      "<class 'float'>\n"
     ]
    }
   ],
   "source": [
    "# Python automatically converts\n",
    "# a to int\n",
    "a = 7\n",
    "print(type(a))\n",
    " \n",
    "# Python automatically converts b to float\n",
    "b = 3.0\n",
    "print(type(b))\n",
    " \n",
    "# Python automatically converts c to float as it is a float addition\n",
    "c = a + b\n",
    "print(c)\n",
    "print(type(c))"
   ]
  },
  {
   "cell_type": "markdown",
   "id": "a166808f",
   "metadata": {},
   "source": [
    "# Taking User Input in python\n"
   ]
  },
  {
   "cell_type": "markdown",
   "id": "ff7655d1",
   "metadata": {},
   "source": [
    "In python, we can take user input directly by using input() function.This input function gives a return value as string/character hence we have to pass that into a variable"
   ]
  },
  {
   "cell_type": "markdown",
   "id": "907091ba",
   "metadata": {},
   "source": [
    "### Syntax:\n"
   ]
  },
  {
   "cell_type": "code",
   "execution_count": 5,
   "id": "8a77a8a8",
   "metadata": {},
   "outputs": [
    {
     "name": "stdout",
     "output_type": "stream",
     "text": [
      "2\n"
     ]
    }
   ],
   "source": [
    "variable=input()"
   ]
  },
  {
   "cell_type": "markdown",
   "id": "ed2f943e",
   "metadata": {},
   "source": [
    "But input function returns the value as string. Hence we have to typecast them whenever required to another datatype.\n"
   ]
  },
  {
   "cell_type": "code",
   "execution_count": 6,
   "id": "1fa2a34d",
   "metadata": {},
   "outputs": [
    {
     "name": "stdout",
     "output_type": "stream",
     "text": [
      "2\n",
      "2\n"
     ]
    }
   ],
   "source": [
    "variable=int(input())\n",
    "variable=float(input())"
   ]
  },
  {
   "cell_type": "markdown",
   "id": "5a7f3c3e",
   "metadata": {},
   "source": [
    "We can also display a text using input function. This will make input() function take user input and display a message as well"
   ]
  },
  {
   "cell_type": "code",
   "execution_count": 7,
   "id": "95167daf",
   "metadata": {},
   "outputs": [
    {
     "name": "stdout",
     "output_type": "stream",
     "text": [
      "Enter the name: 2\n",
      "2\n"
     ]
    }
   ],
   "source": [
    "a=input(\"Enter the name: \")\n",
    "print(a)"
   ]
  },
  {
   "cell_type": "code",
   "execution_count": null,
   "id": "edf3a267",
   "metadata": {},
   "outputs": [],
   "source": []
  }
 ],
 "metadata": {
  "kernelspec": {
   "display_name": "Python 3 (ipykernel)",
   "language": "python",
   "name": "python3"
  },
  "language_info": {
   "codemirror_mode": {
    "name": "ipython",
    "version": 3
   },
   "file_extension": ".py",
   "mimetype": "text/x-python",
   "name": "python",
   "nbconvert_exporter": "python",
   "pygments_lexer": "ipython3",
   "version": "3.9.13"
  }
 },
 "nbformat": 4,
 "nbformat_minor": 5
}
