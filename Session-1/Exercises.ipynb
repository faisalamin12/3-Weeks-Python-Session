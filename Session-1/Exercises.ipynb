{
 "cells": [
  {
   "cell_type": "markdown",
   "id": "c4d30b64",
   "metadata": {},
   "source": [
    "# Exercises"
   ]
  },
  {
   "cell_type": "markdown",
   "id": "c6edf480",
   "metadata": {},
   "source": [
    "1. Create a variable named \"name\" and assign the value \"Your name\" to it.\n",
    "\n"
   ]
  },
  {
   "cell_type": "code",
   "execution_count": null,
   "id": "00d62a2e",
   "metadata": {},
   "outputs": [],
   "source": []
  },
  {
   "cell_type": "markdown",
   "id": "28526e43",
   "metadata": {},
   "source": [
    "2. Assign: 3 to variable glass_of_water.\n",
    "\n",
    "Let's try to see what happens after assigning a new value to our variable. Note that program gets executed line by line.\n",
    "\n",
    "\n",
    "Place the variable: glass_of_water inside the print function and observe what happens."
   ]
  },
  {
   "cell_type": "code",
   "execution_count": null,
   "id": "20120473",
   "metadata": {},
   "outputs": [],
   "source": []
  },
  {
   "cell_type": "markdown",
   "id": "00912433",
   "metadata": {},
   "source": [
    "3. Create a program through which you can add , subtract , multiply  and divide two numbers"
   ]
  },
  {
   "cell_type": "code",
   "execution_count": null,
   "id": "250a2570",
   "metadata": {},
   "outputs": [],
   "source": []
  },
  {
   "cell_type": "markdown",
   "id": "db737bd4",
   "metadata": {},
   "source": [
    "4.\n",
    "\n",
    "a = 9\n",
    "\n",
    "b = 11\n",
    "\n",
    "Swap the values of these two variables\n",
    "\n",
    "Expected Output :\n",
    "\n",
    "a = 11\n",
    "\n",
    "b = 9"
   ]
  },
  {
   "cell_type": "code",
   "execution_count": null,
   "id": "2ad9fb81",
   "metadata": {},
   "outputs": [],
   "source": []
  },
  {
   "cell_type": "markdown",
   "id": "728a0c18",
   "metadata": {},
   "source": [
    "Write a program to accept two numbers from the user and calculate multiplication\n",
    "\n"
   ]
  },
  {
   "cell_type": "code",
   "execution_count": null,
   "id": "fd9db1fb",
   "metadata": {},
   "outputs": [],
   "source": []
  },
  {
   "cell_type": "markdown",
   "id": "e81156ad",
   "metadata": {},
   "source": [
    "Display three string “Name”, “Is”, “James” as “Name ** Is ** James”"
   ]
  },
  {
   "cell_type": "code",
   "execution_count": null,
   "id": "1e5f7761",
   "metadata": {},
   "outputs": [],
   "source": []
  },
  {
   "cell_type": "markdown",
   "id": "c6089ed9",
   "metadata": {},
   "source": [
    "Display float number with 2 decimal places using print()\n"
   ]
  },
  {
   "cell_type": "code",
   "execution_count": null,
   "id": "668aefb3",
   "metadata": {},
   "outputs": [],
   "source": []
  },
  {
   "cell_type": "markdown",
   "id": "c706ab3a",
   "metadata": {},
   "source": [
    "Using type() function assign the type of the variable to answer_1, then print it.\n"
   ]
  },
  {
   "cell_type": "code",
   "execution_count": null,
   "id": "e919eca7",
   "metadata": {},
   "outputs": [],
   "source": []
  }
 ],
 "metadata": {
  "kernelspec": {
   "display_name": "Python 3 (ipykernel)",
   "language": "python",
   "name": "python3"
  },
  "language_info": {
   "codemirror_mode": {
    "name": "ipython",
    "version": 3
   },
   "file_extension": ".py",
   "mimetype": "text/x-python",
   "name": "python",
   "nbconvert_exporter": "python",
   "pygments_lexer": "ipython3",
   "version": "3.9.13"
  }
 },
 "nbformat": 4,
 "nbformat_minor": 5
}
